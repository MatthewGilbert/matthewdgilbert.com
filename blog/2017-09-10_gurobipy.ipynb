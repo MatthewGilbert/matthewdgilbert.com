{
 "cells": [
  {
   "cell_type": "markdown",
   "metadata": {},
   "source": [
    "I recently played around with *gurobipy*, the excellent *python* wrapper to *Gurobi*, and wanted to summarize my experience. *Gurobi* is a commercial solver but has a free restricted licenses for academics and online coursework.\n",
    "\n",
    "First you need to install gurobipy, download gurobi from http://www.gurobi.com/downloads/gurobi-optimizer\n",
    "untar to /opt\n",
    "\n",
    "Append the following to your .bashrc file, where gurobi701 may vary depending\n",
    "on the version of gurobi you installed\n",
    "\n",
    "```language-bash\n",
    "export GUROBI_HOME=\"/opt/gurobi701/linux64\"\n",
    "export PATH=\"${PATH}:${GUROBI_HOME}/bin\"\n",
    "export LD_LIBRARY_PATH=\"${LD_LIBRARY_PATH}:${GUROBI_HOME}/lib\"\n",
    "```\n",
    "\n",
    "Download a license from\n",
    "\n",
    "https://user.gurobi.com/download/licenses/free-online\n",
    "\n",
    "Install the python library using\n",
    "\n",
    "```language-bash\n",
    "cd /opt/gurobi701/linux64\n",
    "python setup.py install\n",
    "```"
   ]
  },
  {
   "cell_type": "markdown",
   "metadata": {},
   "source": [
    "## Hello world example"
   ]
  },
  {
   "cell_type": "code",
   "execution_count": 1,
   "metadata": {
    "collapsed": false
   },
   "outputs": [
    {
     "name": "stdout",
     "output_type": "stream",
     "text": [
      "Parameter OutputFlag unchanged\n",
      "   Value: 1  Min: 0  Max: 1  Default: 1\n",
      "Optimize a model with 1 rows, 2 columns and 2 nonzeros\n",
      "Coefficient statistics:\n",
      "  Matrix range     [1e+00, 1e+00]\n",
      "  Objective range  [1e+00, 3e+00]\n",
      "  Bounds range     [0e+00, 0e+00]\n",
      "  RHS range        [1e+00, 1e+00]\n",
      "Presolve removed 1 rows and 2 columns\n",
      "Presolve time: 0.01s\n",
      "Presolve: All rows and columns removed\n",
      "Iteration    Objective       Primal Inf.    Dual Inf.      Time\n",
      "       0    3.0000000e+00   0.000000e+00   0.000000e+00      0s\n",
      "\n",
      "Solved in 0 iterations and 0.01 seconds\n",
      "Optimal objective  3.000000000e+00\n",
      "x 1.0\n",
      "y 0.0\n",
      "Obj: 3.0\n"
     ]
    }
   ],
   "source": [
    "from gurobipy import *\n",
    "m = Model()\n",
    "m.setParam('OutputFlag', True)\n",
    "\n",
    "x = m.addVar(name='x')\n",
    "y = m.addVar(name='y')\n",
    "\n",
    "m.setObjective(3*x - y, GRB.MAXIMIZE)\n",
    "m.addConstr(x + y <= 1, \"c1\")\n",
    "\n",
    "m.update()\n",
    "m.optimize()\n",
    "\n",
    "for v in m.getVars():\n",
    "    print('%s %s' % (v.VarName, v.X))\n",
    "print('Obj: %s' % m.ObjVal)"
   ]
  },
  {
   "cell_type": "markdown",
   "metadata": {},
   "source": [
    "## Mean Variance with Piecewise Linear Tcost"
   ]
  },
  {
   "cell_type": "code",
   "execution_count": 2,
   "metadata": {
    "collapsed": true
   },
   "outputs": [],
   "source": [
    "from gurobipy import *\n",
    "import numpy as np\n",
    "\n",
    "# Objective function\n",
    "#\n",
    "# max h'mu - h'Sh - (f(h1) + f(h2))\n",
    "#\n",
    "# where f() are piecewise linear\n",
    "\n",
    "\n",
    "def run_opti(current_holdings, alphas, covariance, tcosts=None, risk_aversion=1):\n",
    "\n",
    "    m = Model('portfolio')\n",
    "    m.setParam('OutputFlag', False)\n",
    "\n",
    "    # Create variables\n",
    "\n",
    "    lb = -1e9\n",
    "    ub = 1e9\n",
    "\n",
    "    holdings = pd.Series(m.addVars(alphas.index, lb=lb, ub=ub))\n",
    "\n",
    "    # Integrate new variables\n",
    "    var_obj = -risk_aversion * covariance.dot(holdings).dot(holdings)\n",
    "\n",
    "    if tcosts is not None:\n",
    "        # setting piecewise linear objectives overrides other linear objectives\n",
    "        # so include alpha in pwl\n",
    "        m.setObjective(var_obj, GRB.MAXIMIZE)\n",
    "        \n",
    "        for ast in holdings.index:\n",
    "            tc = tcosts.trade_cost\n",
    "            centered_notional = list(tcosts.notional - current_holdings.loc[ast])\n",
    "            tcost_and_alpha = [-tcn + alphas.loc[ast] * ntnl for tcn, ntnl in zip(tc, centered_notional)]\n",
    "            m.setPWLObj(holdings.loc[ast], centered_notional, tcost_and_alpha)\n",
    "\n",
    "    else:\n",
    "        m.setObjective(alphas.dot(holdings) + var_obj, GRB.MAXIMIZE)\n",
    "\n",
    "    m.update()\n",
    "    m.optimize()\n",
    "\n",
    "    if m.Status == GRB.OPTIMAL:\n",
    "        print('Solution is optimal')\n",
    "    else:\n",
    "        print('Solution is not optimal')\n",
    "    for v in m.getVars():\n",
    "        print('%s %g' % (v.VarName, v.X))\n",
    "    print('Obj: %g' % m.ObjVal)\n",
    "    print('')\n",
    "    \n",
    "    return holdings.apply(lambda x: x.X), m"
   ]
  },
  {
   "cell_type": "code",
   "execution_count": 3,
   "metadata": {
    "collapsed": false
   },
   "outputs": [],
   "source": [
    "# covariance matrix\n",
    "#   0.01    0.0091\n",
    "#   0.0091  0.0169\n",
    "import pandas as pd\n",
    "\n",
    "alphas = pd.Series((-3e-4, 5e-4), index=[\"A\", \"B\"])\n",
    "risk_aversion = 0.000000006\n",
    "\n",
    "cov = pd.DataFrame([[0.01, 0.0091], [0.0091, 0.0169]], index=[\"A\", \"B\"], columns=[\"A\", \"B\"])\n",
    "\n",
    "notional = [-2.0000e9, -1.0000e9, -0.8000e9, -0.6000e9, -0.4000e9, -0.2500e9,\n",
    "    -0.1000e9, -0.0500e9, -0.0250e9, -0.0100e9, -0.0010e9, 0, 0.0010e9,\n",
    "    0.0100e9, 0.0250e9, 0.0500e9, 0.1000e9, 0.2500e9, 0.4000e9,\n",
    "    0.6000e9, 0.8000e9, 1.0000e9, 2.0000e9]\n",
    "\n",
    "trade_cost = [2.938964e6, 0.753364e6, 0.488104e6, 0.280144e6, 0.129472e6,\n",
    "    0.053766e6, 0.011007e6, 0.003751e6, 0.001435e6, 0.000465e6,\n",
    "    0.000037e6, 0, 0.000037e6, 0.000465e6, 0.001435e6, 0.003751e6,\n",
    "    0.011007e6, 0.053766e6, 0.129472e6, 0.280144e6, 0.488104e6,\n",
    "    0.753364e6, 2.938964e6]\n",
    "\n",
    "tcosts = pd.DataFrame({\"notional\": notional, \"trade_cost\": trade_cost})\n",
    "\n",
    "current_hlds = pd.Series(0, index=['A', 'B'])"
   ]
  },
  {
   "cell_type": "code",
   "execution_count": 4,
   "metadata": {
    "collapsed": false
   },
   "outputs": [
    {
     "data": {
      "image/png": "[encoded data removed]",
      "text/plain": [
       "<matplotlib.figure.Figure at 0x7fa028363ac8>"
      ]
     },
     "metadata": {},
     "output_type": "display_data"
    }
   ],
   "source": [
    "import matplotlib.pyplot as plt\n",
    "plt.figure(figsize=(12,8))\n",
    "plt.plot(tcosts.notional, tcosts.trade_cost)\n",
    "plt.title(\"Tcost Curve\")\n",
    "plt.show()"
   ]
  },
  {
   "cell_type": "markdown",
   "metadata": {},
   "source": [
    "#### Inspecting the results with and without accounting for tcosts, you can see this is having the desired effect of slowing trading"
   ]
  },
  {
   "cell_type": "code",
   "execution_count": 5,
   "metadata": {
    "collapsed": false
   },
   "outputs": [
    {
     "name": "stdout",
     "output_type": "stream",
     "text": [
      "Solution is optimal\n",
      "C0 -9.30116e+06\n",
      "C1 7.4738e+06\n",
      "Obj: 3263.62\n",
      "\n"
     ]
    },
    {
     "data": {
      "text/plain": [
       "A    $-9,301,156.36\n",
       "B     $7,473,798.20\n",
       "dtype: object"
      ]
     },
     "execution_count": 5,
     "metadata": {},
     "output_type": "execute_result"
    }
   ],
   "source": [
    "ntc_hlds, _ = run_opti(current_hlds, alphas, cov, risk_aversion=risk_aversion)\n",
    "ntc_hlds.apply(lambda x: '${:,.2f}'.format(x))"
   ]
  },
  {
   "cell_type": "code",
   "execution_count": 6,
   "metadata": {
    "collapsed": false
   },
   "outputs": [
    {
     "name": "stdout",
     "output_type": "stream",
     "text": [
      "Solution is optimal\n",
      "C0 -8.10569e+06\n",
      "C1 6.59559e+06\n",
      "Obj: 2536.3\n",
      "\n"
     ]
    },
    {
     "data": {
      "text/plain": [
       "A    $-8,105,692.42\n",
       "B     $6,595,592.00\n",
       "dtype: object"
      ]
     },
     "execution_count": 6,
     "metadata": {},
     "output_type": "execute_result"
    }
   ],
   "source": [
    "tc_hlds, model = run_opti(current_hlds, alphas, cov, tcosts, risk_aversion=risk_aversion)\n",
    "tc_hlds.apply(lambda x: '${:,.2f}'.format(x))"
   ]
  },
  {
   "cell_type": "markdown",
   "metadata": {},
   "source": [
    "#### If you are having issues, a useful trick for debugging is to inspect the model by writing it out to an lp format"
   ]
  },
  {
   "cell_type": "code",
   "execution_count": 7,
   "metadata": {
    "collapsed": false
   },
   "outputs": [
    {
     "name": "stdout",
     "output_type": "stream",
     "text": [
      "\\ Model portfolio\r\n",
      "\\ LP format - for model browsing. Use MPS format to capture full model detail.\r\n",
      "Maximize\r\n",
      "  __pwl(C0) + __pwl(C1) + [ - 1.2e-10 C0 ^2 - 2.184e-10 C0 * C1\r\n",
      "   - 2.028e-10 C1 ^2 ] / 2 \r\n",
      "Subject To\r\n",
      "Bounds\r\n",
      " -1e+09 <= C0 <= 1e+09\r\n",
      " -1e+09 <= C1 <= 1e+09\r\n",
      "PWLObj\r\n",
      " C0: (-2e+09, -2.338964e+06) (-1e+09, -453364) (-8e+08, -248104) \r\n",
      "  (-6e+08, -100144) (-4e+08, -9472) (-2.5e+08, 21234) (-1e+08, 18993) \r\n",
      "  (-5e+07, 11249) (-2.5e+07, 6065) (-1e+07, 2535) (-1e+06, 263) (0, -0) \r\n",
      "  (1e+06, -337) (1e+07, -3465) (2.5e+07, -8935) (5e+07, -18751) \r\n",
      "  (1e+08, -41007) (2.5e+08, -128766) (4e+08, -249472) (6e+08, -460144) \r\n",
      "  (8e+08, -728104) (1e+09, -1.053364e+06) (2e+09, -3.538964e+06)\r\n",
      " C1: (-2e+09, -3.938964e+06) (-1e+09, -1.253364e+06) (-8e+08, -888104) \r\n",
      "  (-6e+08, -580144) (-4e+08, -329472) (-2.5e+08, -178766) (-1e+08, -61007) \r\n",
      "  (-5e+07, -28751) (-2.5e+07, -13935) (-1e+07, -5465) (-1e+06, -537) \r\n",
      "  (0, 0) (1e+06, 463) (1e+07, 4535) (2.5e+07, 11065) (5e+07, 21249) \r\n",
      "  (1e+08, 38993) (2.5e+08, 71234) (4e+08, 70528) (6e+08, 19856) \r\n",
      "  (8e+08, -88104) (1e+09, -253364) (2e+09, -1.938964e+06)\r\n",
      "End\r\n"
     ]
    }
   ],
   "source": [
    "import tempfile\n",
    "fn = tempfile.mktemp(\".lp\")\n",
    "\n",
    "model.write(fn)\n",
    "!cat $fn"
   ]
  }
 ],
 "metadata": {
  "kernelspec": {
   "display_name": "Python 3",
   "language": "python",
   "name": "python3"
  },
  "language_info": {
   "codemirror_mode": {
    "name": "ipython",
    "version": 3
   },
   "file_extension": ".py",
   "mimetype": "text/x-python",
   "name": "python",
   "nbconvert_exporter": "python",
   "pygments_lexer": "ipython3",
   "version": "3.6.0"
  }
 },
 "nbformat": 4,
 "nbformat_minor": 2
}
