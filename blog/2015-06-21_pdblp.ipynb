{
 "cells": [
  {
   "cell_type": "markdown",
   "metadata": {},
   "source": [
    "This is a simple introduction to pdblp, a wrapper for easy Bloomberg and pandas integration"
   ]
  },
  {
   "cell_type": "code",
   "execution_count": 1,
   "metadata": {
    "collapsed": false
   },
   "outputs": [
    {
     "name": "stdout",
     "output_type": "stream",
     "text": [
      "Populating the interactive namespace from numpy and matplotlib\n"
     ]
    }
   ],
   "source": [
    "%pylab inline\n",
    "import pdblp"
   ]
  },
  {
   "cell_type": "markdown",
   "metadata": {},
   "source": [
    "The project [pdblp](https://github.com/MatthewGilbert/pdblp) borrows heavily from the package by kyuni22, which is available [here](https://github.com/kyuni22/pybbg).\n",
    "\n",
    "The package currently wraps the Historical Data Request service and the Intraday Bar Request service. More details of the Open API can be found [here](http://www.bloomberglabs.com/api/documentation/)\n",
    "\n",
    "Before running this notebook you need to have access to a Bloomberg terminal on a windows machine and download and install pdblp\n",
    "\n",
    "```\n",
    "git clone https://github.com/MatthewGilbert/pdblp.git\n",
    "cd pdblp\n",
    "pip install -e pdblp\n",
    "```"
   ]
  },
  {
   "cell_type": "code",
   "execution_count": 2,
   "metadata": {
    "collapsed": true
   },
   "outputs": [],
   "source": [
    "con = pdblp.BCon(debug=False)\n",
    "con.start()"
   ]
  },
  {
   "cell_type": "code",
   "execution_count": 3,
   "metadata": {
    "collapsed": false
   },
   "outputs": [
    {
     "name": "stdout",
     "output_type": "stream",
     "text": [
      "\n",
      "        Get tickers and fields, return pandas dataframe with column MultiIndex\n",
      "        of tickers and fields\n",
      "\n",
      "        Parameters\n",
      "        ----------\n",
      "        tickers: {list, string}\n",
      "            String or list of strings corresponding to tickers\n",
      "        flds: {list, string}\n",
      "            String or list of strings corresponding to FLDS\n",
      "        start_date: string\n",
      "            String in format YYYYmmdd\n",
      "        end_date: string\n",
      "            String in format YYYYmmdd\n",
      "        \n"
     ]
    }
   ],
   "source": [
    "print(con.bdh.__doc__)"
   ]
  },
  {
   "cell_type": "code",
   "execution_count": 4,
   "metadata": {
    "collapsed": true
   },
   "outputs": [],
   "source": [
    "df = con.bdh(['SPY Equity', 'IWM Equity'], 'PX_LAST', '20150103', '20150619')"
   ]
  },
  {
   "cell_type": "code",
   "execution_count": 5,
   "metadata": {
    "collapsed": false
   },
   "outputs": [
    {
     "data": {
      "text/html": [
       "<div style=\"max-height:1000px;max-width:1500px;overflow:auto;\">\n",
       "<table border=\"1\" class=\"dataframe\">\n",
       "  <thead>\n",
       "    <tr>\n",
       "      <th>ticker</th>\n",
       "      <th>IWM Equity</th>\n",
       "      <th>SPY Equity</th>\n",
       "    </tr>\n",
       "    <tr>\n",
       "      <th>field</th>\n",
       "      <th>PX_LAST</th>\n",
       "      <th>PX_LAST</th>\n",
       "    </tr>\n",
       "  </thead>\n",
       "  <tbody>\n",
       "    <tr>\n",
       "      <th>2015-01-05</th>\n",
       "      <td> 117.34</td>\n",
       "      <td> 201.72</td>\n",
       "    </tr>\n",
       "    <tr>\n",
       "      <th>2015-01-06</th>\n",
       "      <td> 115.31</td>\n",
       "      <td> 199.82</td>\n",
       "    </tr>\n",
       "    <tr>\n",
       "      <th>2015-01-07</th>\n",
       "      <td> 116.73</td>\n",
       "      <td> 202.31</td>\n",
       "    </tr>\n",
       "    <tr>\n",
       "      <th>2015-01-08</th>\n",
       "      <td> 118.71</td>\n",
       "      <td> 205.90</td>\n",
       "    </tr>\n",
       "    <tr>\n",
       "      <th>2015-01-09</th>\n",
       "      <td> 117.57</td>\n",
       "      <td> 204.25</td>\n",
       "    </tr>\n",
       "  </tbody>\n",
       "</table>\n",
       "</div>"
      ],
      "text/plain": [
       "ticker     IWM Equity SPY Equity\n",
       "field         PX_LAST    PX_LAST\n",
       "2015-01-05     117.34     201.72\n",
       "2015-01-06     115.31     199.82\n",
       "2015-01-07     116.73     202.31\n",
       "2015-01-08     118.71     205.90\n",
       "2015-01-09     117.57     204.25"
      ]
     },
     "execution_count": 5,
     "metadata": {},
     "output_type": "execute_result"
    }
   ],
   "source": [
    "df.head()"
   ]
  },
  {
   "cell_type": "code",
   "execution_count": 6,
   "metadata": {
    "collapsed": false
   },
   "outputs": [
    {
     "data": {
      "text/plain": [
       "<matplotlib.axes._subplots.AxesSubplot at 0xb62a828>"
      ]
     },
     "execution_count": 6,
     "metadata": {},
     "output_type": "execute_result"
    },
    {
     "data": {
      "image/png": "[encoded data removed]",
      "text/plain": [
       "<matplotlib.figure.Figure at 0xb62a550>"
      ]
     },
     "metadata": {},
     "output_type": "display_data"
    }
   ],
   "source": [
    "df.plot(figsize=(12,8))"
   ]
  },
  {
   "cell_type": "markdown",
   "metadata": {},
   "source": [
    "The bdh() function call returns a MultiIndex by default to be a consistent type in case multiple fields are requested"
   ]
  },
  {
   "cell_type": "code",
   "execution_count": 7,
   "metadata": {
    "collapsed": true
   },
   "outputs": [],
   "source": [
    "df2 = con.bdh(['SPY Equity', 'IWM Equity'], ['PX_LAST', 'VOLUME'], '20150103', '20150619')"
   ]
  },
  {
   "cell_type": "code",
   "execution_count": 8,
   "metadata": {
    "collapsed": false
   },
   "outputs": [
    {
     "data": {
      "text/html": [
       "<div style=\"max-height:1000px;max-width:1500px;overflow:auto;\">\n",
       "<table border=\"1\" class=\"dataframe\">\n",
       "  <thead>\n",
       "    <tr>\n",
       "      <th>ticker</th>\n",
       "      <th colspan=\"2\" halign=\"left\">IWM Equity</th>\n",
       "      <th colspan=\"2\" halign=\"left\">SPY Equity</th>\n",
       "    </tr>\n",
       "    <tr>\n",
       "      <th>field</th>\n",
       "      <th>PX_LAST</th>\n",
       "      <th>VOLUME</th>\n",
       "      <th>PX_LAST</th>\n",
       "      <th>VOLUME</th>\n",
       "    </tr>\n",
       "  </thead>\n",
       "  <tbody>\n",
       "    <tr>\n",
       "      <th>2015-01-05</th>\n",
       "      <td> 117.34</td>\n",
       "      <td> 51141891</td>\n",
       "      <td> 201.72</td>\n",
       "      <td> 169632646</td>\n",
       "    </tr>\n",
       "    <tr>\n",
       "      <th>2015-01-06</th>\n",
       "      <td> 115.31</td>\n",
       "      <td> 67446040</td>\n",
       "      <td> 199.82</td>\n",
       "      <td> 209151408</td>\n",
       "    </tr>\n",
       "    <tr>\n",
       "      <th>2015-01-07</th>\n",
       "      <td> 116.73</td>\n",
       "      <td> 32252095</td>\n",
       "      <td> 202.31</td>\n",
       "      <td> 125346709</td>\n",
       "    </tr>\n",
       "    <tr>\n",
       "      <th>2015-01-08</th>\n",
       "      <td> 118.71</td>\n",
       "      <td> 28361730</td>\n",
       "      <td> 205.90</td>\n",
       "      <td> 147217784</td>\n",
       "    </tr>\n",
       "    <tr>\n",
       "      <th>2015-01-09</th>\n",
       "      <td> 117.57</td>\n",
       "      <td> 26975175</td>\n",
       "      <td> 204.25</td>\n",
       "      <td> 158567288</td>\n",
       "    </tr>\n",
       "  </tbody>\n",
       "</table>\n",
       "</div>"
      ],
      "text/plain": [
       "ticker     IWM Equity           SPY Equity           \n",
       "field         PX_LAST    VOLUME    PX_LAST     VOLUME\n",
       "2015-01-05     117.34  51141891     201.72  169632646\n",
       "2015-01-06     115.31  67446040     199.82  209151408\n",
       "2015-01-07     116.73  32252095     202.31  125346709\n",
       "2015-01-08     118.71  28361730     205.90  147217784\n",
       "2015-01-09     117.57  26975175     204.25  158567288"
      ]
     },
     "execution_count": 8,
     "metadata": {},
     "output_type": "execute_result"
    }
   ],
   "source": [
    "df2.head()"
   ]
  },
  {
   "cell_type": "code",
   "execution_count": 9,
   "metadata": {
    "collapsed": false
   },
   "outputs": [
    {
     "name": "stdout",
     "output_type": "stream",
     "text": [
      "\n",
      "        Get Open, High, Low, Close, Volume, for a ticker.\n",
      "        Return pandas dataframe\n",
      "\n",
      "        Parameters\n",
      "        ----------\n",
      "        ticker: string\n",
      "            String corresponding to ticker\n",
      "        startDateTime: string\n",
      "            UTC datetime in format YYYY-mm-ddTHH:MM:SS\n",
      "        endDateTime: string\n",
      "            UTC datetime in format YYYY-mm-ddTHH:MM:SS\n",
      "        eventType: string {TRADE, BID, ASK, BID_BEST, ASK_BEST, BEST_BID,\n",
      "                           BEST_ASK}\n",
      "            Requested data event type\n",
      "        interval: int {1... 1440}\n",
      "            Length of time bars\n",
      "        \n"
     ]
    }
   ],
   "source": [
    "print(con.bdib.__doc__)"
   ]
  },
  {
   "cell_type": "code",
   "execution_count": 10,
   "metadata": {
    "collapsed": false
   },
   "outputs": [],
   "source": [
    "df3 = con.bdib('SPY Equity', '2015-06-19T09:30:00', '2015-06-19T15:30:00',\n",
    "               eventType='TRADE', interval=15)"
   ]
  },
  {
   "cell_type": "code",
   "execution_count": 11,
   "metadata": {
    "collapsed": false
   },
   "outputs": [
    {
     "data": {
      "text/html": [
       "<div style=\"max-height:1000px;max-width:1500px;overflow:auto;\">\n",
       "<table border=\"1\" class=\"dataframe\">\n",
       "  <thead>\n",
       "    <tr style=\"text-align: right;\">\n",
       "      <th></th>\n",
       "      <th>open</th>\n",
       "      <th>high</th>\n",
       "      <th>low</th>\n",
       "      <th>close</th>\n",
       "      <th>volume</th>\n",
       "    </tr>\n",
       "  </thead>\n",
       "  <tbody>\n",
       "    <tr>\n",
       "      <th>2015-06-19 13:30:00</th>\n",
       "      <td> 211.460</td>\n",
       "      <td> 211.520</td>\n",
       "      <td> 211.090</td>\n",
       "      <td> 211.3573</td>\n",
       "      <td> 9061632</td>\n",
       "    </tr>\n",
       "    <tr>\n",
       "      <th>2015-06-19 13:45:00</th>\n",
       "      <td> 211.360</td>\n",
       "      <td> 211.405</td>\n",
       "      <td> 211.100</td>\n",
       "      <td> 211.3600</td>\n",
       "      <td> 4212470</td>\n",
       "    </tr>\n",
       "    <tr>\n",
       "      <th>2015-06-19 14:00:00</th>\n",
       "      <td> 211.350</td>\n",
       "      <td> 211.550</td>\n",
       "      <td> 211.320</td>\n",
       "      <td> 211.4299</td>\n",
       "      <td> 3659095</td>\n",
       "    </tr>\n",
       "    <tr>\n",
       "      <th>2015-06-19 14:15:00</th>\n",
       "      <td> 211.430</td>\n",
       "      <td> 211.550</td>\n",
       "      <td> 211.325</td>\n",
       "      <td> 211.4550</td>\n",
       "      <td> 2186267</td>\n",
       "    </tr>\n",
       "    <tr>\n",
       "      <th>2015-06-19 14:30:00</th>\n",
       "      <td> 211.459</td>\n",
       "      <td> 211.520</td>\n",
       "      <td> 211.260</td>\n",
       "      <td> 211.3300</td>\n",
       "      <td> 2352812</td>\n",
       "    </tr>\n",
       "  </tbody>\n",
       "</table>\n",
       "</div>"
      ],
      "text/plain": [
       "                        open     high      low     close   volume\n",
       "2015-06-19 13:30:00  211.460  211.520  211.090  211.3573  9061632\n",
       "2015-06-19 13:45:00  211.360  211.405  211.100  211.3600  4212470\n",
       "2015-06-19 14:00:00  211.350  211.550  211.320  211.4299  3659095\n",
       "2015-06-19 14:15:00  211.430  211.550  211.325  211.4550  2186267\n",
       "2015-06-19 14:30:00  211.459  211.520  211.260  211.3300  2352812"
      ]
     },
     "execution_count": 11,
     "metadata": {},
     "output_type": "execute_result"
    }
   ],
   "source": [
    "df3.head()"
   ]
  },
  {
   "cell_type": "markdown",
   "metadata": {},
   "source": [
    "Simple typos can result in somewhat cryptic errors since the service returns a well format response which fails far downstream when a pandas object is attempted to be instantiated, as can be seen below."
   ]
  },
  {
   "cell_type": "code",
   "execution_count": 12,
   "metadata": {
    "collapsed": false
   },
   "outputs": [
    {
     "ename": "TypeError",
     "evalue": "Cannot infer number of levels from empty list",
     "output_type": "error",
     "traceback": [
      "\u001b[1;31m---------------------------------------------------------------------------\u001b[0m",
      "\u001b[1;31mTypeError\u001b[0m                                 Traceback (most recent call last)",
      "\u001b[1;32m<ipython-input-12-fbd4efd0f296>\u001b[0m in \u001b[0;36m<module>\u001b[1;34m()\u001b[0m\n\u001b[1;32m----> 1\u001b[1;33m \u001b[0mcon\u001b[0m\u001b[1;33m.\u001b[0m\u001b[0mbdh\u001b[0m\u001b[1;33m(\u001b[0m\u001b[1;34m'SPY Equitys'\u001b[0m\u001b[1;33m,\u001b[0m \u001b[1;34m'PX_LAST'\u001b[0m\u001b[1;33m,\u001b[0m \u001b[1;34m'20150103'\u001b[0m\u001b[1;33m,\u001b[0m \u001b[1;34m'20150619'\u001b[0m\u001b[1;33m)\u001b[0m\u001b[1;33m\u001b[0m\u001b[0m\n\u001b[0m",
      "\u001b[1;32mc:\\users\\matthew\\sandbox\\pdblp\\pdblp\\pdblp.pyc\u001b[0m in \u001b[0;36mbdh\u001b[1;34m(self, tickers, flds, start_date, end_date, periodselection)\u001b[0m\n\u001b[0;32m    126\u001b[0m         \u001b[0mdata\u001b[0m \u001b[1;33m=\u001b[0m \u001b[0mDataFrame\u001b[0m\u001b[1;33m(\u001b[0m\u001b[0mdata\u001b[0m\u001b[1;33m)\u001b[0m\u001b[1;33m\u001b[0m\u001b[0m\n\u001b[0;32m    127\u001b[0m         data.columns = pd.MultiIndex.from_tuples(\n\u001b[1;32m--> 128\u001b[1;33m             \u001b[0mdata\u001b[0m\u001b[1;33m,\u001b[0m \u001b[0mnames\u001b[0m\u001b[1;33m=\u001b[0m\u001b[1;33m[\u001b[0m\u001b[1;34m'ticker'\u001b[0m\u001b[1;33m,\u001b[0m \u001b[1;34m'field'\u001b[0m\u001b[1;33m]\u001b[0m\u001b[1;33m\u001b[0m\u001b[0m\n\u001b[0m\u001b[0;32m    129\u001b[0m         )\n\u001b[0;32m    130\u001b[0m         \u001b[0mdata\u001b[0m\u001b[1;33m.\u001b[0m\u001b[0mindex\u001b[0m \u001b[1;33m=\u001b[0m \u001b[0mpd\u001b[0m\u001b[1;33m.\u001b[0m\u001b[0mto_datetime\u001b[0m\u001b[1;33m(\u001b[0m\u001b[0mdata\u001b[0m\u001b[1;33m.\u001b[0m\u001b[0mindex\u001b[0m\u001b[1;33m)\u001b[0m\u001b[1;33m\u001b[0m\u001b[0m\n",
      "\u001b[1;32mC:\\Anaconda\\lib\\site-packages\\pandas\\core\\index.pyc\u001b[0m in \u001b[0;36mfrom_tuples\u001b[1;34m(cls, tuples, sortorder, names)\u001b[0m\n\u001b[0;32m   3521\u001b[0m         \u001b[1;32mif\u001b[0m \u001b[0mlen\u001b[0m\u001b[1;33m(\u001b[0m\u001b[0mtuples\u001b[0m\u001b[1;33m)\u001b[0m \u001b[1;33m==\u001b[0m \u001b[1;36m0\u001b[0m\u001b[1;33m:\u001b[0m\u001b[1;33m\u001b[0m\u001b[0m\n\u001b[0;32m   3522\u001b[0m             \u001b[1;31m# I think this is right? Not quite sure...\u001b[0m\u001b[1;33m\u001b[0m\u001b[1;33m\u001b[0m\u001b[0m\n\u001b[1;32m-> 3523\u001b[1;33m             \u001b[1;32mraise\u001b[0m \u001b[0mTypeError\u001b[0m\u001b[1;33m(\u001b[0m\u001b[1;34m'Cannot infer number of levels from empty list'\u001b[0m\u001b[1;33m)\u001b[0m\u001b[1;33m\u001b[0m\u001b[0m\n\u001b[0m\u001b[0;32m   3524\u001b[0m \u001b[1;33m\u001b[0m\u001b[0m\n\u001b[0;32m   3525\u001b[0m         \u001b[1;32mif\u001b[0m \u001b[0misinstance\u001b[0m\u001b[1;33m(\u001b[0m\u001b[0mtuples\u001b[0m\u001b[1;33m,\u001b[0m \u001b[1;33m(\u001b[0m\u001b[0mnp\u001b[0m\u001b[1;33m.\u001b[0m\u001b[0mndarray\u001b[0m\u001b[1;33m,\u001b[0m \u001b[0mIndex\u001b[0m\u001b[1;33m)\u001b[0m\u001b[1;33m)\u001b[0m\u001b[1;33m:\u001b[0m\u001b[1;33m\u001b[0m\u001b[0m\n",
      "\u001b[1;31mTypeError\u001b[0m: Cannot infer number of levels from empty list"
     ]
    }
   ],
   "source": [
    "con.bdh('SPY Equitys', 'PX_LAST', '20150103', '20150619')"
   ]
  },
  {
   "cell_type": "markdown",
   "metadata": {},
   "source": [
    "There is a debug flag which prints the request/response to stdout so this type of error can be easily found."
   ]
  },
  {
   "cell_type": "code",
   "execution_count": 13,
   "metadata": {
    "collapsed": true
   },
   "outputs": [],
   "source": [
    "con.debug = True"
   ]
  },
  {
   "cell_type": "code",
   "execution_count": 14,
   "metadata": {
    "collapsed": false
   },
   "outputs": [
    {
     "name": "stderr",
     "output_type": "stream",
     "text": [
      "DEBUG:root:Sending Request:\n",
      " HistoricalDataRequest = {\n",
      "    securities[] = {\n",
      "        \"SPY Equitys\"\n",
      "    }\n",
      "    fields[] = {\n",
      "        \"PX_LAST\"\n",
      "    }\n",
      "    periodicityAdjustment = ACTUAL\n",
      "    periodicitySelection = DAILY\n",
      "    startDate = \"20150103\"\n",
      "    endDate = \"20150619\"\n",
      "}\n",
      "\n",
      "DEBUG:root:Message Received:\n",
      " HistoricalDataResponse = {\n",
      "    securityData = {\n",
      "        security = \"SPY Equitys\"\n",
      "        eidData[] = {\n",
      "        }\n",
      "        sequenceNumber = 0\n",
      "        securityError = {\n",
      "            source = \"809::bbdbh6\"\n",
      "            code = 15\n",
      "            category = \"BAD_SEC\"\n",
      "            message = \"Unknown/Invalid securityInvalid Security [nid:809] \"\n",
      "            subcategory = \"INVALID_SECURITY\"\n",
      "        }\n",
      "        fieldExceptions[] = {\n",
      "        }\n",
      "        fieldData[] = {\n",
      "        }\n",
      "    }\n",
      "}\n",
      "\n"
     ]
    },
    {
     "ename": "TypeError",
     "evalue": "Cannot infer number of levels from empty list",
     "output_type": "error",
     "traceback": [
      "\u001b[1;31m---------------------------------------------------------------------------\u001b[0m",
      "\u001b[1;31mTypeError\u001b[0m                                 Traceback (most recent call last)",
      "\u001b[1;32m<ipython-input-14-fbd4efd0f296>\u001b[0m in \u001b[0;36m<module>\u001b[1;34m()\u001b[0m\n\u001b[1;32m----> 1\u001b[1;33m \u001b[0mcon\u001b[0m\u001b[1;33m.\u001b[0m\u001b[0mbdh\u001b[0m\u001b[1;33m(\u001b[0m\u001b[1;34m'SPY Equitys'\u001b[0m\u001b[1;33m,\u001b[0m \u001b[1;34m'PX_LAST'\u001b[0m\u001b[1;33m,\u001b[0m \u001b[1;34m'20150103'\u001b[0m\u001b[1;33m,\u001b[0m \u001b[1;34m'20150619'\u001b[0m\u001b[1;33m)\u001b[0m\u001b[1;33m\u001b[0m\u001b[0m\n\u001b[0m",
      "\u001b[1;32mc:\\users\\matthew\\sandbox\\pdblp\\pdblp\\pdblp.pyc\u001b[0m in \u001b[0;36mbdh\u001b[1;34m(self, tickers, flds, start_date, end_date, periodselection)\u001b[0m\n\u001b[0;32m    126\u001b[0m         \u001b[0mdata\u001b[0m \u001b[1;33m=\u001b[0m \u001b[0mDataFrame\u001b[0m\u001b[1;33m(\u001b[0m\u001b[0mdata\u001b[0m\u001b[1;33m)\u001b[0m\u001b[1;33m\u001b[0m\u001b[0m\n\u001b[0;32m    127\u001b[0m         data.columns = pd.MultiIndex.from_tuples(\n\u001b[1;32m--> 128\u001b[1;33m             \u001b[0mdata\u001b[0m\u001b[1;33m,\u001b[0m \u001b[0mnames\u001b[0m\u001b[1;33m=\u001b[0m\u001b[1;33m[\u001b[0m\u001b[1;34m'ticker'\u001b[0m\u001b[1;33m,\u001b[0m \u001b[1;34m'field'\u001b[0m\u001b[1;33m]\u001b[0m\u001b[1;33m\u001b[0m\u001b[0m\n\u001b[0m\u001b[0;32m    129\u001b[0m         )\n\u001b[0;32m    130\u001b[0m         \u001b[0mdata\u001b[0m\u001b[1;33m.\u001b[0m\u001b[0mindex\u001b[0m \u001b[1;33m=\u001b[0m \u001b[0mpd\u001b[0m\u001b[1;33m.\u001b[0m\u001b[0mto_datetime\u001b[0m\u001b[1;33m(\u001b[0m\u001b[0mdata\u001b[0m\u001b[1;33m.\u001b[0m\u001b[0mindex\u001b[0m\u001b[1;33m)\u001b[0m\u001b[1;33m\u001b[0m\u001b[0m\n",
      "\u001b[1;32mC:\\Anaconda\\lib\\site-packages\\pandas\\core\\index.pyc\u001b[0m in \u001b[0;36mfrom_tuples\u001b[1;34m(cls, tuples, sortorder, names)\u001b[0m\n\u001b[0;32m   3521\u001b[0m         \u001b[1;32mif\u001b[0m \u001b[0mlen\u001b[0m\u001b[1;33m(\u001b[0m\u001b[0mtuples\u001b[0m\u001b[1;33m)\u001b[0m \u001b[1;33m==\u001b[0m \u001b[1;36m0\u001b[0m\u001b[1;33m:\u001b[0m\u001b[1;33m\u001b[0m\u001b[0m\n\u001b[0;32m   3522\u001b[0m             \u001b[1;31m# I think this is right? Not quite sure...\u001b[0m\u001b[1;33m\u001b[0m\u001b[1;33m\u001b[0m\u001b[0m\n\u001b[1;32m-> 3523\u001b[1;33m             \u001b[1;32mraise\u001b[0m \u001b[0mTypeError\u001b[0m\u001b[1;33m(\u001b[0m\u001b[1;34m'Cannot infer number of levels from empty list'\u001b[0m\u001b[1;33m)\u001b[0m\u001b[1;33m\u001b[0m\u001b[0m\n\u001b[0m\u001b[0;32m   3524\u001b[0m \u001b[1;33m\u001b[0m\u001b[0m\n\u001b[0;32m   3525\u001b[0m         \u001b[1;32mif\u001b[0m \u001b[0misinstance\u001b[0m\u001b[1;33m(\u001b[0m\u001b[0mtuples\u001b[0m\u001b[1;33m,\u001b[0m \u001b[1;33m(\u001b[0m\u001b[0mnp\u001b[0m\u001b[1;33m.\u001b[0m\u001b[0mndarray\u001b[0m\u001b[1;33m,\u001b[0m \u001b[0mIndex\u001b[0m\u001b[1;33m)\u001b[0m\u001b[1;33m)\u001b[0m\u001b[1;33m:\u001b[0m\u001b[1;33m\u001b[0m\u001b[0m\n",
      "\u001b[1;31mTypeError\u001b[0m: Cannot infer number of levels from empty list"
     ]
    }
   ],
   "source": [
    "con.bdh('SPY Equitys', 'PX_LAST', '20150103', '20150619')"
   ]
  }
 ],
 "metadata": {
  "kernelspec": {
   "display_name": "Python 2",
   "language": "python",
   "name": "python2"
  },
  "language_info": {
   "codemirror_mode": {
    "name": "ipython",
    "version": 2
   },
   "file_extension": ".py",
   "mimetype": "text/x-python",
   "name": "python",
   "nbconvert_exporter": "python",
   "pygments_lexer": "ipython2",
   "version": "2.7.10"
  }
 },
 "nbformat": 4,
 "nbformat_minor": 0
}
